{
 "cells": [
  {
   "cell_type": "code",
   "execution_count": 2,
   "id": "2bad3d89-a3ca-45bc-b211-f0cdce84b321",
   "metadata": {},
   "outputs": [],
   "source": [
    "import numpy as np"
   ]
  },
  {
   "cell_type": "markdown",
   "id": "9ff5a6d7-3231-4865-b2f6-b82c4c24204c",
   "metadata": {},
   "source": [
    "$Let A = UDV^*$\n",
    "\n",
    "$ A^*A = VDU^*UDV = VD^2V^* $ &#8594; $ A^*AV = VD^2 $\n",
    "\n",
    "\n",
    "$ AA^* = UDV^*VDU^* = UD^2U^* $ &#8594; $ AA^*U = UD^2 $\n",
    "\n",
    "When a matrix is right-multiplied by a diagonal matrix, each column is multiplied by the diagonal term:\n",
    "\n",
    "\\begin{equation}[b_{1} ...,b_{n}]\n",
    "\\begin{pmatrix}\\sigma^2_1&\\\\&\\ddots\\\\&&\\sigma_n^2\\end{pmatrix}\n",
    "[\\sigma_{^2_{1}}b_{1}, ...,\\sigma_{^2_{n}}b_{n}]\n",
    "\\end{equation}\n",
    "\n",
    "The right-hand expressions are exactly the eigenvalue equations,\n",
    "\n",
    "$ A^*Av_{i} = \\sigma^2_{i}v_{i}, AA^*u_{i} = \\sigma^2_{i}u_{i}$\n"
   ]
  },
  {
   "cell_type": "code",
   "execution_count": null,
   "id": "5113d3b8-fa54-4b5d-a10b-75332678abaa",
   "metadata": {},
   "outputs": [],
   "source": []
  },
  {
   "cell_type": "code",
   "execution_count": 3,
   "id": "22403947-053c-4d80-9fd8-89dd83664122",
   "metadata": {},
   "outputs": [
    {
     "data": {
      "text/plain": [
       "array([[-1,  2],\n",
       "       [-3,  2],\n",
       "       [ 5,  7]])"
      ]
     },
     "execution_count": 3,
     "metadata": {},
     "output_type": "execute_result"
    }
   ],
   "source": [
    "A = np.array([[-1,2],[-3,2],[5,7]])\n",
    "A"
   ]
  },
  {
   "cell_type": "code",
   "execution_count": 5,
   "id": "534c610a-f084-44c9-852d-92f236ffbfd3",
   "metadata": {},
   "outputs": [],
   "source": [
    "U, d, VT = np.linalg.svd(A)"
   ]
  },
  {
   "cell_type": "code",
   "execution_count": 6,
   "id": "63d1b831-edf2-4efb-8778-33df8aebaa68",
   "metadata": {},
   "outputs": [
    {
     "data": {
      "text/plain": [
       "array([[-0.12708324,  0.47409506,  0.87125411],\n",
       "       [ 0.00164602,  0.87847553, -0.47778451],\n",
       "       [-0.99189069, -0.0592843 , -0.11241989]])"
      ]
     },
     "execution_count": 6,
     "metadata": {},
     "output_type": "execute_result"
    }
   ],
   "source": [
    "U"
   ]
  },
  {
   "cell_type": "code",
   "execution_count": 7,
   "id": "aca1f8ea-d520-4a1c-b705-c114a2564c6f",
   "metadata": {},
   "outputs": [
    {
     "data": {
      "text/plain": [
       "array([[-0.55798885, -0.82984845],\n",
       "       [-0.82984845,  0.55798885]])"
      ]
     },
     "execution_count": 7,
     "metadata": {},
     "output_type": "execute_result"
    }
   ],
   "source": [
    "VT"
   ]
  },
  {
   "cell_type": "code",
   "execution_count": 8,
   "id": "35f62013-26e8-4652-b906-bea2ecd68071",
   "metadata": {},
   "outputs": [
    {
     "data": {
      "text/plain": [
       "array([8.66918448, 4.10429538])"
      ]
     },
     "execution_count": 8,
     "metadata": {},
     "output_type": "execute_result"
    }
   ],
   "source": [
    "d"
   ]
  },
  {
   "cell_type": "code",
   "execution_count": 9,
   "id": "6e2db2cf-5507-43aa-83f8-c8ccaec101a5",
   "metadata": {},
   "outputs": [
    {
     "data": {
      "text/plain": [
       "array([[8.66918448, 0.        ],\n",
       "       [0.        , 4.10429538]])"
      ]
     },
     "execution_count": 9,
     "metadata": {},
     "output_type": "execute_result"
    }
   ],
   "source": [
    "np.diag(d)"
   ]
  },
  {
   "cell_type": "code",
   "execution_count": 10,
   "id": "b5a5d3a6-c37c-4d6f-bdc0-0fd6cd040f67",
   "metadata": {},
   "outputs": [
    {
     "data": {
      "text/plain": [
       "array([[8.66918448, 0.        ],\n",
       "       [0.        , 4.10429538],\n",
       "       [0.        , 0.        ]])"
      ]
     },
     "execution_count": 10,
     "metadata": {},
     "output_type": "execute_result"
    }
   ],
   "source": [
    "D = np.concatenate((np.diag(d), [[0,0]]),axis=0)\n",
    "D"
   ]
  },
  {
   "cell_type": "code",
   "execution_count": 11,
   "id": "889aa64b-091f-4047-8bb8-ca418aa95ff7",
   "metadata": {},
   "outputs": [
    {
     "data": {
      "text/plain": [
       "array([[-1.,  2.],\n",
       "       [-3.,  2.],\n",
       "       [ 5.,  7.]])"
      ]
     },
     "execution_count": 11,
     "metadata": {},
     "output_type": "execute_result"
    }
   ],
   "source": [
    "np.dot(U, np.dot(D, VT))"
   ]
  },
  {
   "cell_type": "code",
   "execution_count": null,
   "id": "df9a8610-56a1-4220-99ed-07c3e9cea970",
   "metadata": {},
   "outputs": [],
   "source": []
  }
 ],
 "metadata": {
  "kernelspec": {
   "display_name": "Python 3 (ipykernel)",
   "language": "python",
   "name": "python3"
  },
  "language_info": {
   "codemirror_mode": {
    "name": "ipython",
    "version": 3
   },
   "file_extension": ".py",
   "mimetype": "text/x-python",
   "name": "python",
   "nbconvert_exporter": "python",
   "pygments_lexer": "ipython3",
   "version": "3.10.6"
  }
 },
 "nbformat": 4,
 "nbformat_minor": 5
}
